{
  "nbformat": 4,
  "nbformat_minor": 0,
  "metadata": {
    "colab": {
      "name": "Untitled2.ipynb",
      "provenance": [],
      "authorship_tag": "ABX9TyPF9F9OsCAhyoEq4sdDWTT4",
      "include_colab_link": true
    },
    "kernelspec": {
      "name": "python3",
      "display_name": "Python 3"
    }
  },
  "cells": [
    {
      "cell_type": "markdown",
      "metadata": {
        "id": "view-in-github",
        "colab_type": "text"
      },
      "source": [
        "<a href=\"https://colab.research.google.com/github/D-e-v-i-k-a/Class-Assignment-1---Getting-Started-with-Python-Programming/blob/master/Untitled2.ipynb\" target=\"_parent\"><img src=\"https://colab.research.google.com/assets/colab-badge.svg\" alt=\"Open In Colab\"/></a>"
      ]
    },
    {
      "cell_type": "code",
      "metadata": {
        "colab": {
          "base_uri": "https://localhost:8080/",
          "height": 130
        },
        "id": "da71acFgT8f1",
        "outputId": "c8cb7f16-fd63-49b7-86bf-2b420393a444"
      },
      "source": [
        "class Member:\n",
        "      def __init__(self, name, age, phonenumber, address, salary):\n",
        "              self.name = name\n",
        "                      self.age = age\n",
        "                              self.phonenumber=phonenumber\n",
        "                                      self.address=address\n",
        "                                              self.salary=salary\n",
        "                                                  \n",
        "                                                      def printSalary(self):\n",
        "                                                              print(\"Salary : \",self.salary)\n",
        "\n",
        "\n",
        "\n",
        "                                                              class Employee(Member):  \n",
        "                                                                  def __init__(self, specialization):\n",
        "                                                                          super().__init__(\"John doe\", 27, 7654342699,\"Abc street\",50000)\n",
        "                                                                                  self.specialisation = specialisation\n",
        "\n",
        "                                                                                      def report(self):\n",
        "                                                                                              print(\"Spetialisation : \",self.specialisation)\n",
        "                                                                                                      print(\"Name:\", self.name)\n",
        "                                                                                                              print(\"age:\", self.age)\n",
        "                                                                                                                      print(\"phone number:\", self.phonenumber)\n",
        "                                                                                                                              print(\"Address:\", self.address)\n",
        "                                                                                                                                      print(\"Salary:\", self.salary)\n",
        "\n",
        "\n",
        "                                                                                                                                      class Manager(Member):  \n",
        "                                                                                                                                          def __init__(self, department):\n",
        "                                                                                                                                                  super().__init__(\"Rachel Greene\", 35,8796857654,\"xyz street\",70000)\n",
        "                                                                                                                                                          self.department = department\n",
        "\n",
        "                                                                                                                                                              def report(self):\n",
        "                                                                                                                                                                      print(\"Department : \", self.department)\n",
        "                                                                                                                                                                              print(\"Name:\", self.name)\n",
        "                                                                                                                                                                                      print(\"age:\", self.age)\n",
        "                                                                                                                                                                                              print(\"phone number:\", self.phonenumber)\n",
        "                                                                                                                                                                                                      print(\"Address:\", self.address)\n",
        "                                                                                                                                                                                                              print(\"Salary : \",self.salary)\n",
        "\n",
        "\n",
        "                                                                                                                                                                                                              a = Employee(\"Assistant Buyer\")\n",
        "                                                                                                                                                                                                              print(a.report())\n",
        "                                                                                                                                                                                                              b = Manager(\"Ralph Lauren\")\n",
        "                                                                                                                                                                                                              print(b.report())\n",
        "                                                                                                                                                                                                              "
      ],
      "execution_count": 2,
      "outputs": [
        {
          "output_type": "error",
          "ename": "IndentationError",
          "evalue": "ignored",
          "traceback": [
            "\u001b[0;36m  File \u001b[0;32m\"<ipython-input-2-9a6d788947c8>\"\u001b[0;36m, line \u001b[0;32m4\u001b[0m\n\u001b[0;31m    self.age = age\u001b[0m\n\u001b[0m    ^\u001b[0m\n\u001b[0;31mIndentationError\u001b[0m\u001b[0;31m:\u001b[0m unexpected indent\n"
          ]
        }
      ]
    }
  ]
}