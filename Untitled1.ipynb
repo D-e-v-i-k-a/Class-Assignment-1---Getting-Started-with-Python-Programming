{
  "nbformat": 4,
  "nbformat_minor": 0,
  "metadata": {
    "colab": {
      "name": "Untitled1.ipynb",
      "provenance": [],
      "collapsed_sections": [],
      "authorship_tag": "ABX9TyNT3+aVYFqgh5unE+8ehgrz",
      "include_colab_link": true
    },
    "kernelspec": {
      "name": "python3",
      "display_name": "Python 3"
    }
  },
  "cells": [
    {
      "cell_type": "markdown",
      "metadata": {
        "id": "view-in-github",
        "colab_type": "text"
      },
      "source": [
        "<a href=\"https://colab.research.google.com/github/D-e-v-i-k-a/Class-Assignment-1---Getting-Started-with-Python-Programming/blob/master/Untitled1.ipynb\" target=\"_parent\"><img src=\"https://colab.research.google.com/assets/colab-badge.svg\" alt=\"Open In Colab\"/></a>"
      ]
    },
    {
      "cell_type": "markdown",
      "metadata": {
        "id": "9XR_qz1t5Kf_"
      },
      "source": [
        "Question 1"
      ]
    },
    {
      "cell_type": "code",
      "metadata": {
        "id": "Z1d2eAte5O7P"
      },
      "source": [
        "import pickle\n",
        "f= open(\"file1.txt\",\"w\")\n",
        "my_list=[1,2,2,3,3,4]\n",
        "s=pickle.dumps(my_list)\n",
        "t=pickle.loads(s)\n",
        "print(t)\n",
        "def copyfile(file1.txt,file2.txt)\n",
        " f1=open(file1.txt,\"r\")\n",
        "  f2=open(file2.txt,\"w\")\n",
        "    while True:\n",
        "      \ttext=f1.read(50)\n",
        "          \tif text ==res \n",
        "              \t\tres=[ ]\n",
        "                    \t\tfor i in my_list:\n",
        "                          \t\t\tif i not in res:\n",
        "                                  \t\t\t\tres.append(i)\n",
        "                                            \t\t\tprint(res)\n",
        "                                                         break\n",
        "                                                                  f2.write(text)\n",
        "                                                                           f1.close()\n",
        "                                                                                    f2.close()\n",
        "                                                                                             return"
      ],
      "execution_count": null,
      "outputs": []
    },
    {
      "cell_type": "markdown",
      "metadata": {
        "id": "EEvOnW0-5m7u"
      },
      "source": [
        "Question:2\n"
      ]
    },
    {
      "cell_type": "code",
      "metadata": {
        "id": "MLWgV8Jj55eN"
      },
      "source": [
        "def copyfile(file1.txt,file2.txt)\n",
        " f1=open(file1.txt,\"r\")\n",
        "  f2=open(file2.txt,\"w\")\n",
        "   while True:\n",
        "    \ttext=f1.read(50)\n",
        "       \tif text==\" \":\n",
        "          \t\tbreak\n",
        "               \tf2.write(text)\n",
        "                  f1.close()\n",
        "                   f2.close()\n",
        "                    return"
      ],
      "execution_count": null,
      "outputs": []
    }
  ]
}