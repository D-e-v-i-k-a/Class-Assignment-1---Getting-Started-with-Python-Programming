{
  "nbformat": 4,
  "nbformat_minor": 0,
  "metadata": {
    "colab": {
      "name": "excersise24-10",
      "provenance": [],
      "collapsed_sections": [],
      "authorship_tag": "ABX9TyNeT8RqgnRG4LiHd2wEXs2N",
      "include_colab_link": true
    },
    "kernelspec": {
      "name": "python3",
      "display_name": "Python 3"
    }
  },
  "cells": [
    {
      "cell_type": "markdown",
      "metadata": {
        "id": "view-in-github",
        "colab_type": "text"
      },
      "source": [
        "<a href=\"https://colab.research.google.com/github/D-e-v-i-k-a/Class-Assignment-1---Getting-Started-with-Python-Programming/blob/master/excersise24_10.ipynb\" target=\"_parent\"><img src=\"https://colab.research.google.com/assets/colab-badge.svg\" alt=\"Open In Colab\"/></a>"
      ]
    },
    {
      "cell_type": "markdown",
      "metadata": {
        "id": "IKA1qISlxKFB"
      },
      "source": [
        "1.Write a pthon program to get the largest number from a list"
      ]
    },
    {
      "cell_type": "markdown",
      "metadata": {
        "id": "TzKFkpBE27w-"
      },
      "source": [
        "# New Section"
      ]
    },
    {
      "cell_type": "code",
      "metadata": {
        "id": "7pO47ZwDxMMA",
        "outputId": "036012c4-e446-45ae-c1dc-940eec4d3714",
        "colab": {
          "base_uri": "https://localhost:8080/",
          "height": 34
        }
      },
      "source": [
        "list1=[45,69,87,93]\n",
        "list1.sort()\n",
        "print(\"The largest number in the list is:\",list1[-1])"
      ],
      "execution_count": null,
      "outputs": [
        {
          "output_type": "stream",
          "text": [
            "The largest number in the list is: 93\n"
          ],
          "name": "stdout"
        }
      ]
    },
    {
      "cell_type": "markdown",
      "metadata": {
        "id": "Y_y2DICDxRXf"
      },
      "source": [
        "2.Write a python code to search an element in a list."
      ]
    },
    {
      "cell_type": "code",
      "metadata": {
        "id": "tGFwf7rexV4Y",
        "outputId": "edc76668-a88c-4885-84a5-155e05d128f4",
        "colab": {
          "base_uri": "https://localhost:8080/",
          "height": 34
        }
      },
      "source": [
        "def search(list1,n): \n",
        "  for i in range(len(list1)):\n",
        "    if list1[i]==n:\n",
        "      return True\n",
        "  return False\n",
        "list1=[1,2,'apple','mango',4,6]\n",
        "n='mango'\n",
        "if search(list1,n):\n",
        "  print(\"found\")\n",
        "else:\n",
        "   print(\"not found\")      "
      ],
      "execution_count": null,
      "outputs": [
        {
          "output_type": "stream",
          "text": [
            "found\n"
          ],
          "name": "stdout"
        }
      ]
    },
    {
      "cell_type": "markdown",
      "metadata": {
        "id": "j3IXHgmrxj0o"
      },
      "source": [
        "3.Write a pthon program to sum all the items in a list."
      ]
    },
    {
      "cell_type": "code",
      "metadata": {
        "id": "dnUtCFxTxlH4",
        "outputId": "577ad6a9-485f-4d79-99f3-90db410237e3",
        "colab": {
          "base_uri": "https://localhost:8080/",
          "height": 34
        }
      },
      "source": [
        "list1=[22,13,46,77]\n",
        "list2=sum(list1)\n",
        "print(\"sum of the above lis is:\",list2)\n"
      ],
      "execution_count": null,
      "outputs": [
        {
          "output_type": "stream",
          "text": [
            "sum of the above lis is: 158\n"
          ],
          "name": "stdout"
        }
      ]
    },
    {
      "cell_type": "markdown",
      "metadata": {
        "id": "vCbKTslKxpTf"
      },
      "source": [
        "4.Write a python program to remove duplicates from a list."
      ]
    },
    {
      "cell_type": "code",
      "metadata": {
        "id": "FQErTwnLxv6-",
        "outputId": "e4ece421-6be7-4edd-88b3-5a465f2b3882",
        "colab": {
          "base_uri": "https://localhost:8080/",
          "height": 34
        }
      },
      "source": [
        "mylist=[2,3,2,4,5,2,6,2]\n",
        "list1=set(mylist)\n",
        "print(list1)"
      ],
      "execution_count": null,
      "outputs": [
        {
          "output_type": "stream",
          "text": [
            "{2, 3, 4, 5, 6}\n"
          ],
          "name": "stdout"
        }
      ]
    },
    {
      "cell_type": "markdown",
      "metadata": {
        "id": "uMfZnIKAxzfs"
      },
      "source": [
        "\n",
        "5.Write a pthon function that takes two lists returns True if the have atleast one common member."
      ]
    },
    {
      "cell_type": "code",
      "metadata": {
        "id": "ip8lpH9ax5KW",
        "outputId": "bf5ef9b6-04be-4361-c088-9cd6ff50cc00",
        "colab": {
          "base_uri": "https://localhost:8080/",
          "height": 51
        }
      },
      "source": [
        "def common(list1,list2):\n",
        "  result=False\n",
        "  for x in list1:\n",
        "    for y in list2:\n",
        "      if x==y:\n",
        "        result=True\n",
        "        return result\n",
        "print(common([1,2,3,4,5],[5,6,7,8,9])) \n",
        "print(common([1,2,3,4,5],[6,7,8,9]))      "
      ],
      "execution_count": null,
      "outputs": [
        {
          "output_type": "stream",
          "text": [
            "True\n",
            "None\n"
          ],
          "name": "stdout"
        }
      ]
    },
    {
      "cell_type": "markdown",
      "metadata": {
        "id": "XRRezYckx_SJ"
      },
      "source": [
        "6.write a pthon program to append a list to the second list."
      ]
    },
    {
      "cell_type": "code",
      "metadata": {
        "id": "b4XiR9pHyAXb",
        "outputId": "8adbc975-3340-457c-8ed4-f816e8bebbf7",
        "colab": {
          "base_uri": "https://localhost:8080/",
          "height": 34
        }
      },
      "source": [
        "list1=[2,4,6,8]\n",
        "list2=['John','Jane',\"France\"]\n",
        "list1.extend(list2)\n",
        "print(\"the appended list is:\",list1)\n"
      ],
      "execution_count": null,
      "outputs": [
        {
          "output_type": "stream",
          "text": [
            "the appended list is: [2, 4, 6, 8, 'John', 'Jane', 'France']\n"
          ],
          "name": "stdout"
        }
      ]
    },
    {
      "cell_type": "markdown",
      "metadata": {
        "id": "3p-mFo-3yEev"
      },
      "source": [
        "7.write a pthon program to check if a given number is composite or not"
      ]
    },
    {
      "cell_type": "code",
      "metadata": {
        "id": "OmHbaMSxyHjz",
        "outputId": "55e81c18-762e-46b7-b531-ed9a5b80f8cd",
        "colab": {
          "base_uri": "https://localhost:8080/",
          "height": 248
        }
      },
      "source": [
        "num=int(input(\"enter a number:\"))\n",
        "factor =0\n",
        "for i in range(1,n):\n",
        "  if n%i==0:\n",
        "   factor=i\n",
        "  if factor>1:\n",
        "    print(\"It a composite number\")\n",
        "  elif n==1:\n",
        "    print(\"1 is neither prime nor composite\")  \n",
        "  else:\n",
        "    print(\"Its not a composite number\") \n",
        "   "
      ],
      "execution_count": null,
      "outputs": [
        {
          "output_type": "stream",
          "text": [
            "enter a number:12\n"
          ],
          "name": "stdout"
        },
        {
          "output_type": "error",
          "ename": "TypeError",
          "evalue": "ignored",
          "traceback": [
            "\u001b[0;31m---------------------------------------------------------------------------\u001b[0m",
            "\u001b[0;31mTypeError\u001b[0m                                 Traceback (most recent call last)",
            "\u001b[0;32m<ipython-input-7-56e33157ce16>\u001b[0m in \u001b[0;36m<module>\u001b[0;34m()\u001b[0m\n\u001b[1;32m      1\u001b[0m \u001b[0mnum\u001b[0m\u001b[0;34m=\u001b[0m\u001b[0mint\u001b[0m\u001b[0;34m(\u001b[0m\u001b[0minput\u001b[0m\u001b[0;34m(\u001b[0m\u001b[0;34m\"enter a number:\"\u001b[0m\u001b[0;34m)\u001b[0m\u001b[0;34m)\u001b[0m\u001b[0;34m\u001b[0m\u001b[0;34m\u001b[0m\u001b[0m\n\u001b[1;32m      2\u001b[0m \u001b[0mfactor\u001b[0m \u001b[0;34m=\u001b[0m\u001b[0;36m0\u001b[0m\u001b[0;34m\u001b[0m\u001b[0;34m\u001b[0m\u001b[0m\n\u001b[0;32m----> 3\u001b[0;31m \u001b[0;32mfor\u001b[0m \u001b[0mi\u001b[0m \u001b[0;32min\u001b[0m \u001b[0mrange\u001b[0m\u001b[0;34m(\u001b[0m\u001b[0;36m1\u001b[0m\u001b[0;34m,\u001b[0m\u001b[0mn\u001b[0m\u001b[0;34m)\u001b[0m\u001b[0;34m:\u001b[0m\u001b[0;34m\u001b[0m\u001b[0;34m\u001b[0m\u001b[0m\n\u001b[0m\u001b[1;32m      4\u001b[0m   \u001b[0;32mif\u001b[0m \u001b[0mn\u001b[0m\u001b[0;34m%\u001b[0m\u001b[0mi\u001b[0m\u001b[0;34m==\u001b[0m\u001b[0;36m0\u001b[0m\u001b[0;34m:\u001b[0m\u001b[0;34m\u001b[0m\u001b[0;34m\u001b[0m\u001b[0m\n\u001b[1;32m      5\u001b[0m    \u001b[0mfactor\u001b[0m\u001b[0;34m=\u001b[0m\u001b[0mi\u001b[0m\u001b[0;34m\u001b[0m\u001b[0;34m\u001b[0m\u001b[0m\n",
            "\u001b[0;31mTypeError\u001b[0m: 'str' object cannot be interpreted as an integer"
          ]
        }
      ]
    },
    {
      "cell_type": "markdown",
      "metadata": {
        "id": "YAFsbtPRyLRb"
      },
      "source": [
        "8.write a pthon code to add two matrices using list."
      ]
    },
    {
      "cell_type": "code",
      "metadata": {
        "id": "Kj6BZnWKyU3W",
        "outputId": "74d82cae-183d-4a8e-ec43-77a18c67aa6c",
        "colab": {
          "base_uri": "https://localhost:8080/",
          "height": 68
        }
      },
      "source": [
        "A=[[2,4,6],[1,3,5],[1,2,3]]\n",
        "B=[[1,2,3],[2,1,4],[3,4,5]]\n",
        "result=[[A[i][j]+ B[i][j] for j in range(len(A[0]))] for i in range(len(A))]\n",
        "for r in result:\n",
        "  print(r)"
      ],
      "execution_count": null,
      "outputs": [
        {
          "output_type": "stream",
          "text": [
            "[3, 6, 9]\n",
            "[3, 4, 9]\n",
            "[4, 6, 8]\n"
          ],
          "name": "stdout"
        }
      ]
    },
    {
      "cell_type": "markdown",
      "metadata": {
        "id": "7LkhtzPUyYoX"
      },
      "source": [
        "9.Write a pthon program to check if a string is palindrome or not."
      ]
    },
    {
      "cell_type": "code",
      "metadata": {
        "id": "8Kd1jxgcycVY",
        "outputId": "a31e96a4-9c41-4456-bac0-2aff9cdcf6e8",
        "colab": {
          "base_uri": "https://localhost:8080/",
          "height": 51
        }
      },
      "source": [
        "def Palindrome(s):\n",
        "  rev=''.join(reversed(s))\n",
        "  if(s==rev):\n",
        "    return True\n",
        "  return False\n",
        "s=input(\"enter a string:\")\n",
        "ans=Palindrome(s)\n",
        "if(ans):\n",
        "  print(\"is a palindrome\")\n",
        "else:\n",
        "  print(\"not a palindrome\")  "
      ],
      "execution_count": null,
      "outputs": [
        {
          "output_type": "stream",
          "text": [
            "enter a string:malayalam\n",
            "is a palindrome\n"
          ],
          "name": "stdout"
        }
      ]
    },
    {
      "cell_type": "markdown",
      "metadata": {
        "id": "1FkxgKbHyfYj"
      },
      "source": [
        "10.Wrte a pthon program to print multiplication table of a number."
      ]
    },
    {
      "cell_type": "code",
      "metadata": {
        "id": "307YgJ6Kylxw",
        "outputId": "d76fc073-992c-4438-e861-659750b802c1",
        "colab": {
          "base_uri": "https://localhost:8080/",
          "height": 221
        }
      },
      "source": [
        "n=int(input(\"enter a numbr\"))\n",
        "i=1\n",
        "while(i<=10):\n",
        "  print(i,\"*\",n,\"=\",i*n)\n",
        "  i=i+1\n",
        "print()  \n",
        "  "
      ],
      "execution_count": null,
      "outputs": [
        {
          "output_type": "stream",
          "text": [
            "enter a numbr7\n",
            "1 * 7 = 7\n",
            "2 * 7 = 14\n",
            "3 * 7 = 21\n",
            "4 * 7 = 28\n",
            "5 * 7 = 35\n",
            "6 * 7 = 42\n",
            "7 * 7 = 49\n",
            "8 * 7 = 56\n",
            "9 * 7 = 63\n",
            "10 * 7 = 70\n",
            "\n"
          ],
          "name": "stdout"
        }
      ]
    }
  ]
}